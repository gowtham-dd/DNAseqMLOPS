{
 "cells": [
  {
   "cell_type": "code",
   "execution_count": 1,
   "metadata": {},
   "outputs": [
    {
     "data": {
      "text/plain": [
       "'d:\\\\Data Science\\\\END to END Proj\\\\DNAseqMLOPS'"
      ]
     },
     "execution_count": 1,
     "metadata": {},
     "output_type": "execute_result"
    }
   ],
   "source": [
    "import os\n",
    "%pwd\n",
    "os.chdir(\"../\")\n",
    "%pwd\n"
   ]
  },
  {
   "cell_type": "code",
   "execution_count": 2,
   "metadata": {},
   "outputs": [],
   "source": [
    "from dataclasses import dataclass\n",
    "from pathlib import Path\n",
    "\n",
    "@dataclass(frozen=True)\n",
    "class DataTransformationConfig:\n",
    "    root_dir: Path\n",
    "    data_path: Path  # Input data (trainYX.csv)\n",
    "    transformed_features_path: Path  # Output features (X.npy)\n",
    "    transformed_labels_path: Path  # Output labels (y.npy)"
   ]
  },
  {
   "cell_type": "code",
   "execution_count": 3,
   "metadata": {},
   "outputs": [],
   "source": [
    "from src.DNASeqMLOPS.constant import *\n",
    "from src.DNASeqMLOPS.utils.common import read_yaml,create_directories "
   ]
  },
  {
   "cell_type": "code",
   "execution_count": 4,
   "metadata": {},
   "outputs": [],
   "source": [
    "from src.DNASeqMLOPS.utils.common import read_yaml,create_directories \n",
    "class ConfigurationManager:\n",
    "    def __init__(\n",
    "        self,\n",
    "        config_filepath = CONFIG_FILE_PATH,\n",
    "        params_filepath = PARAMS_FILE_PATH,\n",
    "        schema_filepath = SCHEMA_FILE_PATH):\n",
    "\n",
    "        self.config = read_yaml(config_filepath)\n",
    "        self.params = read_yaml(params_filepath)\n",
    "        self.schema = read_yaml(schema_filepath)\n",
    "\n",
    "        create_directories([self.config.artifacts_root])\n",
    "\n",
    "    def get_data_transformation_config(self) -> DataTransformationConfig:\n",
    "        config = self.config.data_transformation\n",
    "        create_directories([config.root_dir])\n",
    "\n",
    "        return DataTransformationConfig(\n",
    "            root_dir=Path(config.root_dir),\n",
    "            data_path=Path(config.data_path),\n",
    "            transformed_features_path=Path(config.transformed_features_path),\n",
    "            transformed_labels_path=Path(config.transformed_labels_path)\n",
    "        )"
   ]
  },
  {
   "cell_type": "code",
   "execution_count": 8,
   "metadata": {},
   "outputs": [],
   "source": [
    "from pathlib import Path\n",
    "import pandas as pd\n",
    "import numpy as np\n",
    "from sklearn.feature_extraction.text import CountVectorizer\n",
    "from sklearn.feature_selection import SelectKBest, chi2\n",
    "from collections import Counter\n",
    "import math\n",
    "import os\n",
    "\n",
    "class DataTransformation:\n",
    "    def __init__(self, config):\n",
    "        self.config = config\n",
    "        self.X = None  # Stores features in memory (like original notebook)\n",
    "        self.y = None  # Stores labels in memory (like original notebook)\n",
    "        \n",
    "    def _nucleotide_composition(self, seq):\n",
    "        \"\"\"EXACTLY same as original notebook\"\"\"\n",
    "        return {\n",
    "            'length': len(seq),\n",
    "            'A_perc': seq.count('A')/len(seq),\n",
    "            'C_perc': seq.count('C')/len(seq),\n",
    "            'G_perc': seq.count('G')/len(seq),\n",
    "            'T_perc': seq.count('T')/len(seq),\n",
    "            'GC_content': (seq.count('G')+seq.count('C'))/len(seq)\n",
    "        }\n",
    "\n",
    "    def _get_kmers(self, sequence, k=3):\n",
    "        \"\"\"EXACTLY same as original notebook\"\"\"\n",
    "        return [sequence[i:i+k] for i in range(len(sequence) - k + 1)]\n",
    "\n",
    "    def _shannon_entropy(self, seq):\n",
    "        \"\"\"EXACTLY same as original notebook\"\"\"\n",
    "        counts = Counter(seq)\n",
    "        probs = [c/len(seq) for c in counts.values()]\n",
    "        return -sum(p * math.log2(p) for p in probs if p > 0)\n",
    "\n",
    "    def transform(self):\n",
    "        \"\"\"Only transforms if output folder doesn't exist\"\"\"\n",
    "        if not os.path.exists(self.config.root_dir):\n",
    "            os.makedirs(self.config.root_dir)\n",
    "            print(f\"Transforming data (folder didn't exist)...\")\n",
    "            \n",
    "            # EXACTLY same processing as original notebook\n",
    "            df = pd.read_csv(self.config.data_path)\n",
    "            self.y = df['Y'].values\n",
    "            \n",
    "            # 1. Nucleotide composition\n",
    "            comp_features = df['DNA'].apply(self._nucleotide_composition).apply(pd.Series)\n",
    "            \n",
    "            # 2. K-mer features\n",
    "            vectorizer = CountVectorizer(analyzer='char', ngram_range=(3,3), max_features=500)\n",
    "            X_kmer = vectorizer.fit_transform(df['DNA'].apply(lambda x: ' '.join(self._get_kmers(x,3))))\n",
    "            kmer_features = pd.DataFrame(X_kmer.toarray(), \n",
    "                                       columns=[f\"3mer_{name}\" for name in vectorizer.get_feature_names_out()])\n",
    "            \n",
    "            # 3. Complexity features\n",
    "            complexity_features = df['DNA'].apply(lambda x: pd.Series({\n",
    "                'entropy': self._shannon_entropy(x),\n",
    "                'unique_kmers': len(set(self._get_kmers(x,3))),\n",
    "                'repeats': len(x) - len(set(x))\n",
    "            }))\n",
    "            \n",
    "            # Combine and select features\n",
    "            all_features = pd.concat([comp_features, kmer_features, complexity_features], axis=1)\n",
    "            selector = SelectKBest(chi2, k=100)\n",
    "            self.X = selector.fit_transform(all_features, self.y)\n",
    "            \n",
    "            # Save to memory (no file writing)\n",
    "            print(\"Transformation complete - results stored in memory\")\n",
    "            return True\n",
    "        else:\n",
    "            print(f\"Folder {self.config.root_dir} exists - skipping transformation\")\n",
    "            return False\n",
    "\n",
    "    def get_features(self):\n",
    "        \"\"\"Returns features exactly as original notebook would have them\"\"\"\n",
    "        return self.X, self.y"
   ]
  },
  {
   "cell_type": "code",
   "execution_count": 9,
   "metadata": {},
   "outputs": [
    {
     "name": "stdout",
     "output_type": "stream",
     "text": [
      "[2025-07-25 14:13:22,433: INFO: common: yaml file: config\\config.yaml loaded successfully]\n",
      "[2025-07-25 14:13:22,441: INFO: common: yaml file: params.yaml loaded successfully]\n",
      "[2025-07-25 14:13:22,445: INFO: common: yaml file: schema.yaml loaded successfully]\n",
      "[2025-07-25 14:13:22,447: INFO: common: created directory at: artifacts]\n",
      "[2025-07-25 14:13:22,447: INFO: common: created directory at: artifacts/data_transformation]\n",
      "Folder artifacts\\data_transformation exists - skipping transformation\n"
     ]
    }
   ],
   "source": [
    "try:\n",
    "    config = ConfigurationManager()\n",
    "    transform_config = config.get_data_transformation_config()\n",
    "    transformer = DataTransformation(transform_config)\n",
    "    transformer.transform()\n",
    "except Exception as e:\n",
    "    print(f\"Error during transformation: {e}\")\n",
    "    raise e"
   ]
  }
 ],
 "metadata": {
  "kernelspec": {
   "display_name": "venv",
   "language": "python",
   "name": "python3"
  },
  "language_info": {
   "codemirror_mode": {
    "name": "ipython",
    "version": 3
   },
   "file_extension": ".py",
   "mimetype": "text/x-python",
   "name": "python",
   "nbconvert_exporter": "python",
   "pygments_lexer": "ipython3",
   "version": "3.11.1"
  }
 },
 "nbformat": 4,
 "nbformat_minor": 2
}
