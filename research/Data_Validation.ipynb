{
 "cells": [
  {
   "cell_type": "code",
   "execution_count": 1,
   "metadata": {},
   "outputs": [
    {
     "data": {
      "text/plain": [
       "'d:\\\\Data Science\\\\END to END Proj\\\\DNAseqMLOPS'"
      ]
     },
     "execution_count": 1,
     "metadata": {},
     "output_type": "execute_result"
    }
   ],
   "source": [
    "import os\n",
    "%pwd\n",
    "os.chdir(\"../\")\n",
    "%pwd\n"
   ]
  },
  {
   "cell_type": "code",
   "execution_count": 2,
   "metadata": {},
   "outputs": [],
   "source": [
    "from dataclasses import dataclass\n",
    "from pathlib import Path\n",
    "import pandas as pd\n",
    "import yaml\n",
    "from typing import Dict\n",
    "\n",
    "@dataclass(frozen=True)\n",
    "class DataValidationConfig:\n",
    "    root_dir: Path\n",
    "    STATUS_FILE: str\n",
    "    data_path: Path \n",
    "    all_schema: Dict"
   ]
  },
  {
   "cell_type": "code",
   "execution_count": 3,
   "metadata": {},
   "outputs": [],
   "source": [
    "from src.DNASeqMLOPS.utils.common import read_yaml, create_directories\n",
    "from src.DNASeqMLOPS.constant import *\n",
    "\n",
    "class ConfigurationManager:\n",
    "    def __init__(\n",
    "        self,\n",
    "        config_filepath=CONFIG_FILE_PATH,\n",
    "        params_filepath=PARAMS_FILE_PATH,\n",
    "        schema_filepath=SCHEMA_FILE_PATH\n",
    "    ):\n",
    "        self.config = read_yaml(config_filepath)\n",
    "        self.params = read_yaml(params_filepath)\n",
    "        self.schema = read_yaml(schema_filepath)\n",
    "\n",
    "        create_directories([self.config.artifacts_root])\n",
    "\n",
    "    def get_data_validation_config(self) -> DataValidationConfig:\n",
    "        \"\"\"Get the data validation configuration for single dataset\"\"\"\n",
    "        config = self.config.data_validation\n",
    "        schema = self.schema.COLUMNS\n",
    "        \n",
    "        return DataValidationConfig(\n",
    "            root_dir=Path(config.root_dir),\n",
    "            STATUS_FILE=config.STATUS_FILE,\n",
    "            data_path=Path(config.data_path),  # Single data file\n",
    "            all_schema=schema\n",
    "        )"
   ]
  },
  {
   "cell_type": "code",
   "execution_count": 7,
   "metadata": {},
   "outputs": [],
   "source": [
    "from dataclasses import dataclass\n",
    "from pathlib import Path\n",
    "import pandas as pd\n",
    "import yaml\n",
    "from typing import Dict\n",
    "\n",
    "@dataclass(frozen=True)\n",
    "class DataValidationConfig:\n",
    "    root_dir: Path\n",
    "    STATUS_FILE: str\n",
    "    data_path: Path  # Single data file that will be split later\n",
    "    all_schema: Dict\n",
    "\n",
    "class DataValidation:\n",
    "    def __init__(self, config: DataValidationConfig):\n",
    "        self.config = config\n",
    "\n",
    "    def validate_dataset(self) -> bool:\n",
    "        \"\"\"\n",
    "        Validate that the dataset contains the required columns\n",
    "        with the correct data types as specified in the schema.\n",
    "        \n",
    "        Returns:\n",
    "            bool: True if validation passes, False otherwise\n",
    "        \"\"\"\n",
    "        try:\n",
    "            validation_status = True\n",
    "            expected_columns = set(self.config.all_schema.keys())\n",
    "\n",
    "            # Read the dataset\n",
    "            df = pd.read_csv(self.config.data_path)\n",
    "            \n",
    "            # Check all required columns are present\n",
    "            actual_columns = set(df.columns)\n",
    "            if not expected_columns.issubset(actual_columns):\n",
    "                missing_cols = expected_columns - actual_columns\n",
    "                print(f\"Missing columns: {missing_cols}\")\n",
    "                validation_status = False\n",
    "            \n",
    "            # Check data types for each column\n",
    "            for col, props in self.config.all_schema.items():\n",
    "                if col not in df.columns:\n",
    "                    continue\n",
    "                \n",
    "                # Check data type\n",
    "                expected_type = props['type']\n",
    "                actual_type = str(df[col].dtype)\n",
    "                \n",
    "                # Handle type variations\n",
    "                if expected_type == 'int' and 'int' in actual_type:\n",
    "                    continue\n",
    "                if expected_type == 'float' and 'float' in actual_type:\n",
    "                    continue\n",
    "                if expected_type == 'string' and actual_type == 'object':  # Pandas stores strings as object\n",
    "                    continue\n",
    "                if expected_type != actual_type:\n",
    "                    print(f\"Type mismatch in column '{col}': \"\n",
    "                          f\"expected {expected_type}, got {actual_type}\")\n",
    "                    validation_status = False\n",
    "            \n",
    "            # Additional DNA-specific validations\n",
    "            if 'DNA' in df.columns:\n",
    "                # Check DNA sequences only contain valid nucleotides\n",
    "                valid_nucleotides = {'A', 'T', 'C', 'G'}\n",
    "                sample_sequences = df['DNA'].sample(min(100, len(df)))\n",
    "                for seq in sample_sequences:\n",
    "                    if not set(seq).issubset(valid_nucleotides):\n",
    "                        print(f\"Invalid nucleotides found in DNA sequence: {seq}\")\n",
    "                        validation_status = False\n",
    "                        break\n",
    "            \n",
    "            # Write validation status to file\n",
    "            with open(Path(self.config.root_dir) , 'w') as f:\n",
    "                f.write(f\"Validation status: {validation_status}\")\n",
    "            \n",
    "            return validation_status\n",
    "            \n",
    "        except Exception as e:\n",
    "            print(f\"Error during validation: {str(e)}\")\n",
    "            raise e"
   ]
  },
  {
   "cell_type": "code",
   "execution_count": 8,
   "metadata": {},
   "outputs": [
    {
     "name": "stdout",
     "output_type": "stream",
     "text": [
      "[2025-07-25 13:46:51,802: INFO: common: yaml file: config\\config.yaml loaded successfully]\n",
      "[2025-07-25 13:46:51,805: INFO: common: yaml file: params.yaml loaded successfully]\n",
      "[2025-07-25 13:46:51,809: INFO: common: yaml file: schema.yaml loaded successfully]\n",
      "[2025-07-25 13:46:51,813: INFO: common: created directory at: artifacts]\n",
      "Data validation passed successfully\n"
     ]
    }
   ],
   "source": [
    "try:\n",
    "    # Initialize configuration manager\n",
    "    config_manager = ConfigurationManager()\n",
    "    \n",
    "    # Get data validation config\n",
    "    data_validation_config = config_manager.get_data_validation_config()\n",
    "    \n",
    "    # Perform validation\n",
    "    validator = DataValidation(config=data_validation_config)\n",
    "    is_valid = validator.validate_dataset()\n",
    "    \n",
    "    if not is_valid:\n",
    "        raise ValueError(\"Data validation failed - check logs for details\")\n",
    "    \n",
    "    print(\"Data validation passed successfully\")\n",
    "    \n",
    "    # Now you can proceed to split the validated data into train/test sets\n",
    "    df = pd.read_csv(data_validation_config.data_path)\n",
    "    # ... (split logic here)\n",
    "    \n",
    "except Exception as e:\n",
    "    print(f\"Error during data validation: {str(e)}\")\n",
    "    raise e"
   ]
  }
 ],
 "metadata": {
  "kernelspec": {
   "display_name": "venv",
   "language": "python",
   "name": "python3"
  },
  "language_info": {
   "codemirror_mode": {
    "name": "ipython",
    "version": 3
   },
   "file_extension": ".py",
   "mimetype": "text/x-python",
   "name": "python",
   "nbconvert_exporter": "python",
   "pygments_lexer": "ipython3",
   "version": "3.11.1"
  }
 },
 "nbformat": 4,
 "nbformat_minor": 2
}
