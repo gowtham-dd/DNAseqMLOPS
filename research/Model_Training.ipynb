{
 "cells": [
  {
   "cell_type": "code",
   "execution_count": 1,
   "metadata": {},
   "outputs": [
    {
     "data": {
      "text/plain": [
       "'d:\\\\Data Science\\\\END to END Proj\\\\DNAseqMLOPS'"
      ]
     },
     "execution_count": 1,
     "metadata": {},
     "output_type": "execute_result"
    }
   ],
   "source": [
    "import os\n",
    "%pwd\n",
    "os.chdir(\"../\")\n",
    "%pwd\n"
   ]
  },
  {
   "cell_type": "code",
   "execution_count": 2,
   "metadata": {},
   "outputs": [],
   "source": [
    "\n",
    "## ENTITY\n",
    "from dataclasses import dataclass\n",
    "from pathlib import Path\n",
    "@dataclass(frozen=True)\n",
    "class ModelTrainerConfig:\n",
    "    root_dir: Path\n",
    "    transformed_data_dir: Path\n",
    "    model_dir: Path\n",
    "    models_params: dict  # Will contain params from params.yaml"
   ]
  },
  {
   "cell_type": "code",
   "execution_count": 3,
   "metadata": {},
   "outputs": [],
   "source": [
    "from src.DNASeqMLOPS.utils.common import read_yaml, create_directories\n",
    "from src.DNASeqMLOPS.constant import *\n",
    "\n",
    "class ConfigurationManager:\n",
    "    def __init__(\n",
    "        self,\n",
    "        config_filepath=CONFIG_FILE_PATH,\n",
    "        params_filepath=PARAMS_FILE_PATH,\n",
    "        schema_filepath=SCHEMA_FILE_PATH\n",
    "    ):\n",
    "        self.config = read_yaml(config_filepath)\n",
    "        self.params = read_yaml(params_filepath)\n",
    "        self.schema = read_yaml(schema_filepath)\n",
    "\n",
    "        create_directories([self.config.artifacts_root])\n",
    "\n",
    "    def get_model_trainer_config(self) -> ModelTrainerConfig:\n",
    "        config = self.config.model_trainer\n",
    "        models_params = self.params.model_training.models\n",
    "        \n",
    "        create_directories([\n",
    "            Path(config.root_dir),\n",
    "            Path(config.model_dir)\n",
    "        ])\n",
    "\n",
    "        return ModelTrainerConfig(\n",
    "            root_dir=Path(config.root_dir),\n",
    "            transformed_data_dir=Path(config.transformed_data_dir),\n",
    "            model_dir=Path(config.model_dir),\n",
    "            models_params=models_params\n",
    "        )"
   ]
  },
  {
   "cell_type": "code",
   "execution_count": 9,
   "metadata": {},
   "outputs": [],
   "source": [
    "from dataclasses import dataclass\n",
    "from pathlib import Path\n",
    "import numpy as np\n",
    "import joblib\n",
    "from sklearn.ensemble import RandomForestClassifier\n",
    "from sklearn.svm import SVC\n",
    "import xgboost as xgb\n",
    "from sklearn.metrics import accuracy_score, f1_score, classification_report\n",
    "import os\n",
    "from typing import Dict\n",
    "from DNASeqMLOPS import logger\n",
    "class ModelTrainer:\n",
    "    def __init__(self, config: ModelTrainerConfig):\n",
    "        self.config = config\n",
    "        self.model_classes = {\n",
    "            \"RandomForest\": RandomForestClassifier,\n",
    "            \"SVM\": SVC,\n",
    "            \"XGBoost\": xgb.XGBClassifier\n",
    "        }\n",
    "        \n",
    "    def train(self):\n",
    "        \"\"\"Train models only if no trained models exist yet\"\"\"\n",
    "        model_files_exist = any(\n",
    "            fname.endswith(\".joblib\") for fname in os.listdir(self.config.model_dir)\n",
    "        ) if os.path.exists(self.config.model_dir) else False\n",
    "\n",
    "        if model_files_exist:\n",
    "            logger.info(f\"Model files already exist in {self.config.model_dir} - skipping training\")\n",
    "            return False\n",
    "        else:\n",
    "            os.makedirs(self.config.model_dir, exist_ok=True)\n",
    "            logger.info(\"Training models...\")\n",
    "\n",
    "            X = np.load(os.path.join(self.config.transformed_data_dir, \"X.npy\"))\n",
    "            y = np.load(os.path.join(self.config.transformed_data_dir, \"y.npy\"))\n",
    "\n",
    "            results = {}\n",
    "            for model_name, params in self.config.models_params.items():\n",
    "                if model_name in self.model_classes:\n",
    "                    try:\n",
    "                        logger.info(f\"Training {model_name} with params: {params}\")\n",
    "                        model = self.model_classes[model_name](**params)\n",
    "                        model.fit(X, y)\n",
    "\n",
    "                    # Save model\n",
    "                        model_path = os.path.join(self.config.model_dir, f\"{model_name}.joblib\")\n",
    "                        joblib.dump(model, model_path)\n",
    "\n",
    "                    # Evaluate\n",
    "                        y_pred = model.predict(X)\n",
    "                        results[model_name] = {\n",
    "                        \"accuracy\": accuracy_score(y, y_pred),\n",
    "                        \"f1\": f1_score(y, y_pred),\n",
    "                        \"classification_report\": classification_report(y, y_pred)\n",
    "                        }\n",
    "                        logger.info(f\"{model_name} trained successfully\")\n",
    "\n",
    "                    except Exception as e:\n",
    "                        logger.error(f\"Error training {model_name}: {str(e)}\")\n",
    "                        continue\n",
    "\n",
    "        # Save evaluation results\n",
    "            joblib.dump(results, os.path.join(self.config.model_dir, \"training_results.joblib\"))\n",
    "            logger.info(\"Model training completed\")\n",
    "            return True\n"
   ]
  },
  {
   "cell_type": "code",
   "execution_count": 10,
   "metadata": {},
   "outputs": [
    {
     "name": "stdout",
     "output_type": "stream",
     "text": [
      "[2025-07-25 14:52:58,538: INFO: common: yaml file: config\\config.yaml loaded successfully]\n",
      "[2025-07-25 14:52:58,542: INFO: common: yaml file: params.yaml loaded successfully]\n",
      "[2025-07-25 14:52:58,549: INFO: common: yaml file: schema.yaml loaded successfully]\n",
      "[2025-07-25 14:52:58,553: INFO: common: created directory at: artifacts]\n",
      "[2025-07-25 14:52:58,554: INFO: common: created directory at: artifacts\\model_trainer]\n",
      "[2025-07-25 14:52:58,557: INFO: common: created directory at: artifacts\\model_trainer\\models]\n",
      "[2025-07-25 14:52:58,557: INFO: 3996164474: Training models...]\n",
      "[2025-07-25 14:52:59,006: INFO: 3996164474: Training RandomForest with params: {'n_estimators': 200, 'max_depth': 10, 'random_state': 42}]\n",
      "[2025-07-25 14:55:41,135: INFO: 3996164474: RandomForest trained successfully]\n",
      "[2025-07-25 14:55:41,135: INFO: 3996164474: Training SVM with params: {'kernel': 'rbf', 'C': 1.0, 'gamma': 'scale', 'random_state': 42, 'probability': True}]\n",
      "[2025-07-25 15:26:33,386: INFO: 3996164474: SVM trained successfully]\n",
      "[2025-07-25 15:26:33,386: INFO: 3996164474: Training XGBoost with params: {'n_estimators': 200, 'max_depth': 6, 'learning_rate': 0.1, 'random_state': 42}]\n",
      "[2025-07-25 15:26:45,569: INFO: 3996164474: XGBoost trained successfully]\n",
      "[2025-07-25 15:26:45,569: INFO: 3996164474: Model training completed]\n",
      "[2025-07-25 15:26:45,583: INFO: 3483979608: New models trained and saved]\n"
     ]
    }
   ],
   "source": [
    "try:\n",
    "    config_manager = ConfigurationManager()\n",
    "    trainer_config = config_manager.get_model_trainer_config()\n",
    "    trainer = ModelTrainer(trainer_config)\n",
    "    \n",
    "    if trainer.train():\n",
    "        logger.info(\"New models trained and saved\")\n",
    "    else:\n",
    "        logger.info(\"Using existing models\")\n",
    "        \n",
    "except Exception as e:\n",
    "    logger.error(f\"Model training pipeline failed: {str(e)}\")\n",
    "    raise"
   ]
  }
 ],
 "metadata": {
  "kernelspec": {
   "display_name": "venv",
   "language": "python",
   "name": "python3"
  },
  "language_info": {
   "codemirror_mode": {
    "name": "ipython",
    "version": 3
   },
   "file_extension": ".py",
   "mimetype": "text/x-python",
   "name": "python",
   "nbconvert_exporter": "python",
   "pygments_lexer": "ipython3",
   "version": "3.11.1"
  }
 },
 "nbformat": 4,
 "nbformat_minor": 2
}
